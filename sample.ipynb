{
 "cells": [
  {
   "cell_type": "markdown",
   "id": "c61ab515",
   "metadata": {
    "papermill": {
     "duration": 0.007698,
     "end_time": "2024-03-01T22:36:22.584976",
     "exception": false,
     "start_time": "2024-03-01T22:36:22.577278",
     "status": "completed"
    },
    "tags": []
   },
   "source": [
    "# Lunit + ABMIL Inference for Ovarian Cancer"
   ]
  },
  {
   "cell_type": "markdown",
   "id": "b5079fd3",
   "metadata": {
    "papermill": {
     "duration": 0.006843,
     "end_time": "2024-03-01T22:36:22.599131",
     "exception": false,
     "start_time": "2024-03-01T22:36:22.592288",
     "status": "completed"
    },
    "tags": []
   },
   "source": [
    "This is an adapted version of my competion inference notebook, replacing CLAM with ABMIL, as the open-source code of CLAM was licensed under GPL-3, but with a clause excluding commercial use.\n",
    "\n",
    "The featuere extraction, model training and inference code are located in the dataset \"[abmil-for-ovarian-cancer](https://www.kaggle.com/datasets/dantee/abmil-for-ovarian-cancer-3rd-place)\" later referenced as ABMIL.\n",
    "\n",
    "1. Feature extraction via [Lunit-Dioo](https://github.com/lunit-io/benchmark-ssl-pathology) in the function ABMIL.extract_png_features . \n",
    "2. Training code of the [ABMIL](https://github.com/AMLab-Amsterdam/AttentionDeepMIL) model in ABMIL.main. This notebook does not run the training. It rather uses the weights from my local training run, located in the dataset .\n",
    "3. Inference code of the [ABMIL](https://github.com/AMLab-Amsterdam/AttentionDeepMIL) model is the ABMIL.eval.eval_utils and uses the model weights in the dataset [traind-abmil-for-ovarian-cancer](https://www.kaggle.com/datasets/dantee/trained--abmil-for-ovarian-cancer). There are 5 models each trained on 80% of my training data as described in the [3rd place model summary](https://www.kaggle.com/competitions/UBC-OCEAN/discussion/465527).\n",
    "   "
   ]
  },
  {
   "cell_type": "code",
   "execution_count": 1,
   "id": "d1e7f567",
   "metadata": {
    "execution": {
     "iopub.execute_input": "2024-03-01T22:36:22.614119Z",
     "iopub.status.busy": "2024-03-01T22:36:22.613821Z",
     "iopub.status.idle": "2024-03-01T22:36:22.641492Z",
     "shell.execute_reply": "2024-03-01T22:36:22.640815Z"
    },
    "papermill": {
     "duration": 0.037253,
     "end_time": "2024-03-01T22:36:22.643261",
     "exception": false,
     "start_time": "2024-03-01T22:36:22.606008",
     "status": "completed"
    },
    "tags": []
   },
   "outputs": [],
   "source": [
    "%load_ext autoreload\n",
    "%autoreload 2"
   ]
  },
  {
   "cell_type": "code",
   "execution_count": 2,
   "id": "3540b4a9",
   "metadata": {
    "execution": {
     "iopub.execute_input": "2024-03-01T22:36:22.658037Z",
     "iopub.status.busy": "2024-03-01T22:36:22.657765Z",
     "iopub.status.idle": "2024-03-01T22:39:44.270083Z",
     "shell.execute_reply": "2024-03-01T22:39:44.269134Z"
    },
    "papermill": {
     "duration": 201.622181,
     "end_time": "2024-03-01T22:39:44.272355",
     "exception": false,
     "start_time": "2024-03-01T22:36:22.650174",
     "status": "completed"
    },
    "tags": []
   },
   "outputs": [
    {
     "name": "stdout",
     "output_type": "stream",
     "text": [
      "\u001b[31mERROR: pip's dependency resolver does not currently take into account all the packages that are installed. This behaviour is the source of the following dependency conflicts.\r\n",
      "cuml 23.8.0 requires cupy-cuda11x>=12.0.0, which is not installed.\r\n",
      "dask-cudf 23.8.0 requires cupy-cuda11x>=12.0.0, which is not installed.\r\n",
      "aiobotocore 2.11.2 requires botocore<1.34.35,>=1.33.2, but you have botocore 1.32.1 which is incompatible.\r\n",
      "cuml 23.8.0 requires dask==2023.7.1, but you have dask 2023.11.0 which is incompatible.\r\n",
      "cuml 23.8.0 requires distributed==2023.7.1, but you have distributed 2023.11.0 which is incompatible.\r\n",
      "dask-cuda 23.8.0 requires dask==2023.7.1, but you have dask 2023.11.0 which is incompatible.\r\n",
      "dask-cuda 23.8.0 requires distributed==2023.7.1, but you have distributed 2023.11.0 which is incompatible.\r\n",
      "dask-cuda 23.8.0 requires pandas<1.6.0dev0,>=1.3, but you have pandas 2.1.4 which is incompatible.\r\n",
      "dask-cudf 23.8.0 requires dask==2023.7.1, but you have dask 2023.11.0 which is incompatible.\r\n",
      "dask-cudf 23.8.0 requires distributed==2023.7.1, but you have distributed 2023.11.0 which is incompatible.\r\n",
      "dask-cudf 23.8.0 requires pandas<1.6.0dev0,>=1.3, but you have pandas 2.1.4 which is incompatible.\r\n",
      "raft-dask 23.8.0 requires dask==2023.7.1, but you have dask 2023.11.0 which is incompatible.\r\n",
      "raft-dask 23.8.0 requires distributed==2023.7.1, but you have distributed 2023.11.0 which is incompatible.\u001b[0m\u001b[31m\r\n",
      "\u001b[0mLooking in links: /kaggle/input/xformers-wheel/xformers\r\n",
      "Processing /kaggle/input/xformers-wheel/xformers/xformers-0.0.22.post7+cu118-cp310-cp310-manylinux2014_x86_64.whl\r\n",
      "Requirement already satisfied: numpy in /opt/conda/lib/python3.10/site-packages (from xformers==0.0.22.post7+cu118) (1.26.4)\r\n",
      "Processing /kaggle/input/xformers-wheel/xformers/torch-2.1.0+cu118-cp310-cp310-linux_x86_64.whl (from xformers==0.0.22.post7+cu118)\r\n",
      "Requirement already satisfied: filelock in /opt/conda/lib/python3.10/site-packages (from torch==2.1.0->xformers==0.0.22.post7+cu118) (3.13.1)\r\n",
      "Requirement already satisfied: typing-extensions in /opt/conda/lib/python3.10/site-packages (from torch==2.1.0->xformers==0.0.22.post7+cu118) (4.9.0)\r\n",
      "Requirement already satisfied: sympy in /opt/conda/lib/python3.10/site-packages (from torch==2.1.0->xformers==0.0.22.post7+cu118) (1.12)\r\n",
      "Requirement already satisfied: networkx in /opt/conda/lib/python3.10/site-packages (from torch==2.1.0->xformers==0.0.22.post7+cu118) (3.2.1)\r\n",
      "Requirement already satisfied: jinja2 in /opt/conda/lib/python3.10/site-packages (from torch==2.1.0->xformers==0.0.22.post7+cu118) (3.1.2)\r\n",
      "Requirement already satisfied: fsspec in /opt/conda/lib/python3.10/site-packages (from torch==2.1.0->xformers==0.0.22.post7+cu118) (2024.2.0)\r\n",
      "Processing /kaggle/input/xformers-wheel/xformers/triton-2.1.0-0-cp310-cp310-manylinux2014_x86_64.manylinux_2_17_x86_64.whl (from torch==2.1.0->xformers==0.0.22.post7+cu118)\r\n",
      "Requirement already satisfied: MarkupSafe>=2.0 in /opt/conda/lib/python3.10/site-packages (from jinja2->torch==2.1.0->xformers==0.0.22.post7+cu118) (2.1.3)\r\n",
      "Requirement already satisfied: mpmath>=0.19 in /opt/conda/lib/python3.10/site-packages (from sympy->torch==2.1.0->xformers==0.0.22.post7+cu118) (1.3.0)\r\n",
      "Installing collected packages: triton, torch, xformers\r\n",
      "  Attempting uninstall: torch\r\n",
      "    Found existing installation: torch 2.1.2\r\n",
      "    Uninstalling torch-2.1.2:\r\n",
      "      Successfully uninstalled torch-2.1.2\r\n",
      "Successfully installed torch-2.1.0+cu118 triton-2.1.0 xformers-0.0.22.post7+cu118\r\n"
     ]
    }
   ],
   "source": [
    "import os\n",
    "if os.path.isdir('/kaggle/input'):\n",
    "    !cp /kaggle/input/library-fastkaggle/fastkaggle-0.0.8-py3-none-any.whl /kaggle/working \n",
    "    !pip install  /kaggle/working/fastkaggle-0.0.8-py3-none-any.whl -q\n",
    "from fastkaggle import setup_comp, iskaggle\n",
    "!pip install /kaggle/input/library-histomicstk/wheelhouse/histomicstk-1.3.0-cp310-cp310-manylinux_2_17_x86_64.manylinux2014_x86_64.whl --no-index --find-links /kaggle/input/library-histomicstk/wheelhouse -q\n",
    "!pip install /kaggle/input/xformers-wheel/xformers/xformers-0.0.22.post7+cu118-cp310-cp310-manylinux2014_x86_64.whl --no-index --find-links /kaggle/input/xformers-wheel/xformers"
   ]
  },
  {
   "cell_type": "code",
   "execution_count": 3,
   "id": "d3448333",
   "metadata": {
    "execution": {
     "iopub.execute_input": "2024-03-01T22:39:44.290308Z",
     "iopub.status.busy": "2024-03-01T22:39:44.289558Z",
     "iopub.status.idle": "2024-03-01T22:39:44.311251Z",
     "shell.execute_reply": "2024-03-01T22:39:44.310458Z"
    },
    "papermill": {
     "duration": 0.032589,
     "end_time": "2024-03-01T22:39:44.313114",
     "exception": false,
     "start_time": "2024-03-01T22:39:44.280525",
     "status": "completed"
    },
    "tags": []
   },
   "outputs": [
    {
     "data": {
      "text/plain": [
       "Path('../input/UBC-OCEAN')"
      ]
     },
     "execution_count": 3,
     "metadata": {},
     "output_type": "execute_result"
    }
   ],
   "source": [
    "comp_slug = 'UBC-OCEAN'\n",
    "comp_path = setup_comp(comp_slug)\n",
    "comp_path"
   ]
  },
  {
   "cell_type": "code",
   "execution_count": 4,
   "id": "55f096e2",
   "metadata": {
    "execution": {
     "iopub.execute_input": "2024-03-01T22:39:44.330504Z",
     "iopub.status.busy": "2024-03-01T22:39:44.329886Z",
     "iopub.status.idle": "2024-03-01T22:39:48.514444Z",
     "shell.execute_reply": "2024-03-01T22:39:48.513339Z"
    },
    "papermill": {
     "duration": 4.19583,
     "end_time": "2024-03-01T22:39:48.516922",
     "exception": false,
     "start_time": "2024-03-01T22:39:44.321092",
     "status": "completed"
    },
    "tags": []
   },
   "outputs": [],
   "source": [
    "import os\n",
    "import sys\n",
    "import re\n",
    "import json\n",
    "from pathlib import Path\n",
    "import time\n",
    "# import psutil\n",
    "import gc\n",
    "import ctypes\n",
    "import pandas as pd\n",
    "import numpy as np\n",
    "import matplotlib as mpl\n",
    "import matplotlib.pyplot as plt\n",
    "\n",
    "import torch\n",
    "import torch.nn.functional as F"
   ]
  },
  {
   "cell_type": "code",
   "execution_count": 5,
   "id": "4c463b4f",
   "metadata": {
    "execution": {
     "iopub.execute_input": "2024-03-01T22:39:48.534983Z",
     "iopub.status.busy": "2024-03-01T22:39:48.534287Z",
     "iopub.status.idle": "2024-03-01T22:39:48.567979Z",
     "shell.execute_reply": "2024-03-01T22:39:48.567147Z"
    },
    "papermill": {
     "duration": 0.044996,
     "end_time": "2024-03-01T22:39:48.570113",
     "exception": false,
     "start_time": "2024-03-01T22:39:48.525117",
     "status": "completed"
    },
    "tags": []
   },
   "outputs": [],
   "source": [
    "os.environ['VIPS_CONCURRENCY'] = '4'\n",
    "os.environ['VIPS_DISC_THRESHOLD'] = '15gb'"
   ]
  },
  {
   "cell_type": "code",
   "execution_count": 6,
   "id": "bab12954",
   "metadata": {
    "execution": {
     "iopub.execute_input": "2024-03-01T22:39:48.590055Z",
     "iopub.status.busy": "2024-03-01T22:39:48.589760Z",
     "iopub.status.idle": "2024-03-01T22:39:48.625023Z",
     "shell.execute_reply": "2024-03-01T22:39:48.624254Z"
    },
    "papermill": {
     "duration": 0.047652,
     "end_time": "2024-03-01T22:39:48.627189",
     "exception": false,
     "start_time": "2024-03-01T22:39:48.579537",
     "status": "completed"
    },
    "tags": []
   },
   "outputs": [],
   "source": [
    "# Make Juptyter allow multi-processing in the data loader\n",
    "# also seems to save memory\n",
    "from multiprocessing import set_start_method\n",
    "try:\n",
    "    set_start_method('spawn')\n",
    "except RuntimeError as ex:\n",
    "    print(ex)"
   ]
  },
  {
   "cell_type": "code",
   "execution_count": 7,
   "id": "83d43b76",
   "metadata": {
    "execution": {
     "iopub.execute_input": "2024-03-01T22:39:48.647214Z",
     "iopub.status.busy": "2024-03-01T22:39:48.646930Z",
     "iopub.status.idle": "2024-03-01T22:40:00.818572Z",
     "shell.execute_reply": "2024-03-01T22:40:00.817553Z"
    },
    "papermill": {
     "duration": 12.184438,
     "end_time": "2024-03-01T22:40:00.820971",
     "exception": false,
     "start_time": "2024-03-01T22:39:48.636533",
     "status": "completed"
    },
    "tags": []
   },
   "outputs": [
    {
     "name": "stderr",
     "output_type": "stream",
     "text": [
      "/opt/conda/lib/python3.10/site-packages/torchvision/io/image.py:13: UserWarning: Failed to load image Python extension: '/opt/conda/lib/python3.10/site-packages/torchvision/image.so: undefined symbol: _ZN3c107WarningC1ENS_7variantIJNS0_11UserWarningENS0_18DeprecationWarningEEEERKNS_14SourceLocationENSt7__cxx1112basic_stringIcSt11char_traitsIcESaIcEEEb'If you don't plan on using image functionality from `torchvision.io`, you can ignore this warning. Otherwise, there might be something wrong with your environment. Did you have `libjpeg` or `libpng` installed before building `torchvision` from source?\n",
      "  warn(\n"
     ]
    }
   ],
   "source": [
    "# torch.set_num_threads(4)\n",
    "\n",
    "if iskaggle:\n",
    "    abmil_path = '/kaggle/input/abmil-for-ovarian-cancer-3rd-place'    \n",
    "else:\n",
    "    abmil_path = '../abmil'\n",
    "sys.path.append(abmil_path)\n",
    "\n",
    "from ABMIL.extract_png_features import extract_png_features\n",
    "from ABMIL.datasets.dataset_generic import Generic_WSI_Classification_Dataset\n",
    "from ABMIL.utils.eval_utils import initiate_model"
   ]
  },
  {
   "cell_type": "code",
   "execution_count": 8,
   "id": "74282198",
   "metadata": {
    "execution": {
     "iopub.execute_input": "2024-03-01T22:40:00.839128Z",
     "iopub.status.busy": "2024-03-01T22:40:00.838608Z",
     "iopub.status.idle": "2024-03-01T22:40:00.994035Z",
     "shell.execute_reply": "2024-03-01T22:40:00.992887Z"
    },
    "papermill": {
     "duration": 0.16676,
     "end_time": "2024-03-01T22:40:00.996135",
     "exception": false,
     "start_time": "2024-03-01T22:40:00.829375",
     "status": "completed"
    },
    "tags": []
   },
   "outputs": [
    {
     "name": "stdout",
     "output_type": "stream",
     "text": [
      "{'COMP_DATA_DIR': './data/UBC-OCEAN', 'WORKING_DIR': './lunit_abmil', 'FEATURE_EXTRACT_MODEL': 'lunit_dino_16', 'FEATURE_EXTRACT_MODEL_PATH': 'dino_vit_small_patch16_ep200.torch', 'CHECKPOINT_DIR': './trained_lunit_ambil', 'TMA_MEGAPIXEL_THRESHOLD': 50, 'TILE_SIZE': 224, 'MODEL_SIZE': 'big', 'USE_FP16_FOR_FEATURE_EXTRACTION': True, 'TMA_HALF_RES': False}\n"
     ]
    }
   ],
   "source": [
    "ckpt_folder = Path('/kaggle/input/trained--abmil-for-ovarian-cancer')\n",
    "with open(ckpt_folder/'settings.json', 'r') as file:\n",
    "    settings = json.load(file)\n",
    "print(settings)\n",
    "\n",
    "model_path = '/kaggle/input/lunit-dino-weights/dino_vit_small_patch16_ep200.torch'\n",
    "model = settings['FEATURE_EXTRACT_MODEL']\n",
    "use_fp16 = settings['USE_FP16_FOR_FEATURE_EXTRACTION']\n",
    "tile_size = settings['TILE_SIZE']\n",
    "model_size = settings['MODEL_SIZE']\n",
    "tma_megapixel_threshold = settings['TMA_MEGAPIXEL_THRESHOLD']\n",
    "    \n",
    "# Kaggle Submission\n",
    "if len(os.listdir(comp_path/'test_images')) != 1:\n",
    "    is_submission = True\n",
    "    test_meta = pd.read_csv(comp_path/'test.csv')\n",
    "    train_test = 'test'\n",
    "    test_folder = comp_path/f'test_images'\n",
    "# Kaggle Test Run\n",
    "else:\n",
    "    is_submission = False\n",
    "    train_test = 'train'\n",
    "    test_meta = pd.read_csv(comp_path/f'{train_test}.csv')\n",
    "    # test_meta = test_meta[test_meta['image_id'].isin([39728, 39872, 39880, 29084, 44232, 34247, 42125, 5264])]\n",
    "    # test_meta = test_meta[test_meta['image_id'].isin([45630, 36678, 8713, 14424])] # four largest images\n",
    "    test_meta = test_meta.sample(5)\n",
    "    test_folder = comp_path/f'{train_test}_images'\n",
    "project_root = Path('/tmp')\n",
    "\n",
    "file_sizes = []\n",
    "formatted_sizes = []\n",
    "for image_id in test_meta['image_id']:\n",
    "    size = os.path.getsize(test_folder/f'{image_id}.png')\n",
    "    file_sizes.append(size)\n",
    "    formatted_sizes.append(f\"{size / 1024**3:.2f} GB\")\n",
    "test_meta['file_gb'] = np.array(file_sizes) / 1024 **3\n",
    "test_meta['formatted_file_size'] = formatted_sizes\n",
    "test_meta['n_mega_pixels'] = (test_meta['image_width'] * test_meta['image_height'] // 1e6).astype(int)\n",
    "n_classes = 6"
   ]
  },
  {
   "cell_type": "code",
   "execution_count": 9,
   "id": "c64fd665",
   "metadata": {
    "execution": {
     "iopub.execute_input": "2024-03-01T22:40:01.013570Z",
     "iopub.status.busy": "2024-03-01T22:40:01.013273Z",
     "iopub.status.idle": "2024-03-01T22:40:01.081859Z",
     "shell.execute_reply": "2024-03-01T22:40:01.081032Z"
    },
    "papermill": {
     "duration": 0.079364,
     "end_time": "2024-03-01T22:40:01.083727",
     "exception": false,
     "start_time": "2024-03-01T22:40:01.004363",
     "status": "completed"
    },
    "tags": []
   },
   "outputs": [
    {
     "data": {
      "text/plain": [
       "5"
      ]
     },
     "execution_count": 9,
     "metadata": {},
     "output_type": "execute_result"
    }
   ],
   "source": [
    "test_meta.shape[0]"
   ]
  },
  {
   "cell_type": "code",
   "execution_count": 10,
   "id": "d531a4b7",
   "metadata": {
    "execution": {
     "iopub.execute_input": "2024-03-01T22:40:01.101415Z",
     "iopub.status.busy": "2024-03-01T22:40:01.101127Z",
     "iopub.status.idle": "2024-03-01T22:43:34.040875Z",
     "shell.execute_reply": "2024-03-01T22:43:34.039724Z"
    },
    "papermill": {
     "duration": 212.950949,
     "end_time": "2024-03-01T22:43:34.042945",
     "exception": false,
     "start_time": "2024-03-01T22:40:01.091996",
     "status": "completed"
    },
    "tags": []
   },
   "outputs": [
    {
     "name": "stderr",
     "output_type": "stream",
     "text": [
      "/opt/conda/lib/python3.10/site-packages/torchvision/io/image.py:13: UserWarning: Failed to load image Python extension: '/opt/conda/lib/python3.10/site-packages/torchvision/image.so: undefined symbol: _ZN3c107WarningC1ENS_7variantIJNS0_11UserWarningENS0_18DeprecationWarningEEEERKNS_14SourceLocationENSt7__cxx1112basic_stringIcSt11char_traitsIcESaIcEEEb'If you don't plan on using image functionality from `torchvision.io`, you can ignore this warning. Otherwise, there might be something wrong with your environment. Did you have `libjpeg` or `libpng` installed before building `torchvision` from source?\n",
      "  warn(\n",
      "/opt/conda/lib/python3.10/site-packages/torchvision/io/image.py:13: UserWarning: Failed to load image Python extension: '/opt/conda/lib/python3.10/site-packages/torchvision/image.so: undefined symbol: _ZN3c107WarningC1ENS_7variantIJNS0_11UserWarningENS0_18DeprecationWarningEEEERKNS_14SourceLocationENSt7__cxx1112basic_stringIcSt11char_traitsIcESaIcEEEb'If you don't plan on using image functionality from `torchvision.io`, you can ignore this warning. Otherwise, there might be something wrong with your environment. Did you have `libjpeg` or `libpng` installed before building `torchvision` from source?\n",
      "  warn(\n",
      "/opt/conda/lib/python3.10/site-packages/torchvision/io/image.py:13: UserWarning: Failed to load image Python extension: '/opt/conda/lib/python3.10/site-packages/torchvision/image.so: undefined symbol: _ZN3c107WarningC1ENS_7variantIJNS0_11UserWarningENS0_18DeprecationWarningEEEERKNS_14SourceLocationENSt7__cxx1112basic_stringIcSt11char_traitsIcESaIcEEEb'If you don't plan on using image functionality from `torchvision.io`, you can ignore this warning. Otherwise, there might be something wrong with your environment. Did you have `libjpeg` or `libpng` installed before building `torchvision` from source?\n",
      "  warn(\n",
      "/opt/conda/lib/python3.10/site-packages/torchvision/io/image.py:13: UserWarning: Failed to load image Python extension: '/opt/conda/lib/python3.10/site-packages/torchvision/image.so: undefined symbol: _ZN3c107WarningC1ENS_7variantIJNS0_11UserWarningENS0_18DeprecationWarningEEEERKNS_14SourceLocationENSt7__cxx1112basic_stringIcSt11char_traitsIcESaIcEEEb'If you don't plan on using image functionality from `torchvision.io`, you can ignore this warning. Otherwise, there might be something wrong with your environment. Did you have `libjpeg` or `libpng` installed before building `torchvision` from source?\n",
      "  warn(\n"
     ]
    },
    {
     "name": "stdout",
     "output_type": "stream",
     "text": [
      "Start of batch 5: processed 0/5 images in 0 min 25 s\n",
      "Start of batch 10: processed 0/5 images in 0 min 32 s\n",
      "Start of batch 15: processed 0/5 images in 0 min 37 s\n",
      "Start of batch 20: processed 0/5 images in 0 min 42 s\n",
      "Start of batch 25: processed 0/5 images in 0 min 49 s\n",
      "Start of batch 30: processed 1/5 images in 0 min 55 s\n",
      "Start of batch 35: processed 1/5 images in 1 min 0 s\n",
      "Start of batch 40: processed 1/5 images in 1 min 5 s\n",
      "Start of batch 45: processed 1/5 images in 1 min 10 s\n",
      "Start of batch 50: processed 1/5 images in 1 min 15 s\n",
      "Start of batch 55: processed 1/5 images in 1 min 21 s\n",
      "Start of batch 60: processed 1/5 images in 1 min 26 s\n",
      "Start of batch 65: processed 1/5 images in 1 min 30 s\n",
      "Start of batch 70: processed 2/5 images in 1 min 35 s\n",
      "Start of batch 75: processed 2/5 images in 1 min 46 s\n",
      "Start of batch 80: processed 3/5 images in 1 min 52 s\n",
      "Start of batch 85: processed 3/5 images in 1 min 59 s\n",
      "Start of batch 90: processed 3/5 images in 2 min 5 s\n",
      "Start of batch 95: processed 3/5 images in 2 min 12 s\n",
      "Start of batch 100: processed 3/5 images in 2 min 17 s\n",
      "Start of batch 105: processed 3/5 images in 2 min 24 s\n",
      "Start of batch 110: processed 3/5 images in 2 min 29 s\n",
      "Start of batch 115: processed 3/5 images in 2 min 34 s\n",
      "Start of batch 120: processed 4/5 images in 2 min 40 s\n",
      "Start of batch 125: processed 4/5 images in 2 min 50 s\n",
      "Start of batch 130: processed 4/5 images in 3 min 2 s\n",
      "Start of batch 135: processed 4/5 images in 3 min 12 s\n",
      "Start of batch 140: processed 4/5 images in 3 min 24 s\n",
      "\n",
      "Finished extracting features:\n",
      "Model time 1 min 14.0 s\n",
      "Write time 0 min 0.8 s\n",
      "Inner loop time 1 min 14.8 s\n",
      "Finished in 3 min 32.9 s\n"
     ]
    }
   ],
   "source": [
    "batch_size = 512\n",
    "start = time.time()\n",
    "extract_png_features(test_meta,\n",
    "                     comp_path,\n",
    "                     project_root,\n",
    "                     train_or_test=train_test,\n",
    "                     tma_megapixel_threshold=tma_megapixel_threshold,\n",
    "                     model=model,\n",
    "                     model_path=model_path,\n",
    "                     use_fp16=use_fp16,\n",
    "                     num_workers=4,\n",
    "                     prefetch_factor=2,\n",
    "                     tile_size=tile_size,\n",
    "                     batch_size=batch_size,\n",
    "                     print_every_batches=5,\n",
    "                     tissue_threshold=0.05,\n",
    "                     gc_after_batch=False,\n",
    "                     print_memory=False,\n",
    "                     skip_existing=False)\n",
    "print(f'Finished in {(time.time()-start) // 60:.0f} min {(time.time()-start) % 60:.1f} s')"
   ]
  },
  {
   "cell_type": "markdown",
   "id": "a7fafdc2",
   "metadata": {
    "papermill": {
     "duration": 0.010789,
     "end_time": "2024-03-01T22:43:34.064491",
     "exception": false,
     "start_time": "2024-03-01T22:43:34.053702",
     "status": "completed"
    },
    "tags": []
   },
   "source": [
    "## Load Model Checkpoints"
   ]
  },
  {
   "cell_type": "code",
   "execution_count": 11,
   "id": "3510c5fe",
   "metadata": {
    "execution": {
     "iopub.execute_input": "2024-03-01T22:43:34.087466Z",
     "iopub.status.busy": "2024-03-01T22:43:34.087101Z",
     "iopub.status.idle": "2024-03-01T22:43:34.207739Z",
     "shell.execute_reply": "2024-03-01T22:43:34.206883Z"
    },
    "papermill": {
     "duration": 0.134632,
     "end_time": "2024-03-01T22:43:34.209577",
     "exception": false,
     "start_time": "2024-03-01T22:43:34.074945",
     "status": "completed"
    },
    "tags": []
   },
   "outputs": [
    {
     "data": {
      "text/html": [
       "<div>\n",
       "<style scoped>\n",
       "    .dataframe tbody tr th:only-of-type {\n",
       "        vertical-align: middle;\n",
       "    }\n",
       "\n",
       "    .dataframe tbody tr th {\n",
       "        vertical-align: top;\n",
       "    }\n",
       "\n",
       "    .dataframe thead th {\n",
       "        text-align: right;\n",
       "    }\n",
       "</style>\n",
       "<table border=\"1\" class=\"dataframe\">\n",
       "  <thead>\n",
       "    <tr style=\"text-align: right;\">\n",
       "      <th></th>\n",
       "      <th>label</th>\n",
       "      <th>idx</th>\n",
       "    </tr>\n",
       "  </thead>\n",
       "  <tbody>\n",
       "    <tr>\n",
       "      <th>0</th>\n",
       "      <td>HGSC</td>\n",
       "      <td>0</td>\n",
       "    </tr>\n",
       "    <tr>\n",
       "      <th>1</th>\n",
       "      <td>LGSC</td>\n",
       "      <td>1</td>\n",
       "    </tr>\n",
       "    <tr>\n",
       "      <th>2</th>\n",
       "      <td>EC</td>\n",
       "      <td>2</td>\n",
       "    </tr>\n",
       "    <tr>\n",
       "      <th>3</th>\n",
       "      <td>CC</td>\n",
       "      <td>3</td>\n",
       "    </tr>\n",
       "    <tr>\n",
       "      <th>4</th>\n",
       "      <td>MC</td>\n",
       "      <td>4</td>\n",
       "    </tr>\n",
       "    <tr>\n",
       "      <th>5</th>\n",
       "      <td>Other</td>\n",
       "      <td>5</td>\n",
       "    </tr>\n",
       "  </tbody>\n",
       "</table>\n",
       "</div>"
      ],
      "text/plain": [
       "   label  idx\n",
       "0   HGSC    0\n",
       "1   LGSC    1\n",
       "2     EC    2\n",
       "3     CC    3\n",
       "4     MC    4\n",
       "5  Other    5"
      ]
     },
     "execution_count": 11,
     "metadata": {},
     "output_type": "execute_result"
    }
   ],
   "source": [
    "labels = pd.read_csv(ckpt_folder/'label_mapping.csv', header=None)\n",
    "labels.columns=['label', 'idx']\n",
    "labels"
   ]
  },
  {
   "cell_type": "code",
   "execution_count": 12,
   "id": "ba6179c6",
   "metadata": {
    "execution": {
     "iopub.execute_input": "2024-03-01T22:43:34.233025Z",
     "iopub.status.busy": "2024-03-01T22:43:34.232463Z",
     "iopub.status.idle": "2024-03-01T22:43:34.503215Z",
     "shell.execute_reply": "2024-03-01T22:43:34.502440Z"
    },
    "papermill": {
     "duration": 0.284855,
     "end_time": "2024-03-01T22:43:34.505523",
     "exception": false,
     "start_time": "2024-03-01T22:43:34.220668",
     "status": "completed"
    },
    "tags": []
   },
   "outputs": [],
   "source": [
    "drop_out=0.7\n",
    "use_inst_predictions=False\n",
    "\n",
    "re_checkpoint = re.compile(r's_\\d+_checkpoint.pt')\n",
    "ckpt_files = [path for path in os.listdir(ckpt_folder) if re_checkpoint.match(path)]\n",
    "label_dict = {row['label']: row['idx'] for i, row in labels.iterrows()}\n",
    "models = [initiate_model(label_dict, \n",
    "                         'abmil', \n",
    "                         os.path.join(ckpt_folder, ckpt_file),\n",
    "                         model_size=model_size,\n",
    "                         drop_out=drop_out,\n",
    "                         feature_dim=384,\n",
    "                         use_inst_predictions=use_inst_predictions) for ckpt_file in ckpt_files]"
   ]
  },
  {
   "cell_type": "code",
   "execution_count": 13,
   "id": "4f7f6de5",
   "metadata": {
    "execution": {
     "iopub.execute_input": "2024-03-01T22:43:34.529048Z",
     "iopub.status.busy": "2024-03-01T22:43:34.528306Z",
     "iopub.status.idle": "2024-03-01T22:43:34.603866Z",
     "shell.execute_reply": "2024-03-01T22:43:34.603055Z"
    },
    "papermill": {
     "duration": 0.088836,
     "end_time": "2024-03-01T22:43:34.605690",
     "exception": false,
     "start_time": "2024-03-01T22:43:34.516854",
     "status": "completed"
    },
    "tags": []
   },
   "outputs": [
    {
     "data": {
      "text/html": [
       "<div>\n",
       "<style scoped>\n",
       "    .dataframe tbody tr th:only-of-type {\n",
       "        vertical-align: middle;\n",
       "    }\n",
       "\n",
       "    .dataframe tbody tr th {\n",
       "        vertical-align: top;\n",
       "    }\n",
       "\n",
       "    .dataframe thead th {\n",
       "        text-align: right;\n",
       "    }\n",
       "</style>\n",
       "<table border=\"1\" class=\"dataframe\">\n",
       "  <thead>\n",
       "    <tr style=\"text-align: right;\">\n",
       "      <th></th>\n",
       "      <th>image_id</th>\n",
       "      <th>label</th>\n",
       "      <th>image_width</th>\n",
       "      <th>image_height</th>\n",
       "      <th>is_tma</th>\n",
       "      <th>file_gb</th>\n",
       "      <th>formatted_file_size</th>\n",
       "      <th>n_mega_pixels</th>\n",
       "    </tr>\n",
       "  </thead>\n",
       "  <tbody>\n",
       "    <tr>\n",
       "      <th>367</th>\n",
       "      <td>43815</td>\n",
       "      <td>HGSC</td>\n",
       "      <td>38935</td>\n",
       "      <td>39255</td>\n",
       "      <td>False</td>\n",
       "      <td>1.992378</td>\n",
       "      <td>1.99 GB</td>\n",
       "      <td>1528</td>\n",
       "    </tr>\n",
       "    <tr>\n",
       "      <th>42</th>\n",
       "      <td>4877</td>\n",
       "      <td>CC</td>\n",
       "      <td>57724</td>\n",
       "      <td>42954</td>\n",
       "      <td>False</td>\n",
       "      <td>2.585611</td>\n",
       "      <td>2.59 GB</td>\n",
       "      <td>2479</td>\n",
       "    </tr>\n",
       "    <tr>\n",
       "      <th>250</th>\n",
       "      <td>30539</td>\n",
       "      <td>HGSC</td>\n",
       "      <td>58522</td>\n",
       "      <td>24345</td>\n",
       "      <td>False</td>\n",
       "      <td>0.513355</td>\n",
       "      <td>0.51 GB</td>\n",
       "      <td>1424</td>\n",
       "    </tr>\n",
       "    <tr>\n",
       "      <th>405</th>\n",
       "      <td>47984</td>\n",
       "      <td>HGSC</td>\n",
       "      <td>47165</td>\n",
       "      <td>17046</td>\n",
       "      <td>False</td>\n",
       "      <td>0.684987</td>\n",
       "      <td>0.68 GB</td>\n",
       "      <td>803</td>\n",
       "    </tr>\n",
       "    <tr>\n",
       "      <th>193</th>\n",
       "      <td>23523</td>\n",
       "      <td>MC</td>\n",
       "      <td>74723</td>\n",
       "      <td>45387</td>\n",
       "      <td>False</td>\n",
       "      <td>2.510577</td>\n",
       "      <td>2.51 GB</td>\n",
       "      <td>3391</td>\n",
       "    </tr>\n",
       "  </tbody>\n",
       "</table>\n",
       "</div>"
      ],
      "text/plain": [
       "     image_id label  image_width  image_height  is_tma   file_gb  \\\n",
       "367     43815  HGSC        38935         39255   False  1.992378   \n",
       "42       4877    CC        57724         42954   False  2.585611   \n",
       "250     30539  HGSC        58522         24345   False  0.513355   \n",
       "405     47984  HGSC        47165         17046   False  0.684987   \n",
       "193     23523    MC        74723         45387   False  2.510577   \n",
       "\n",
       "    formatted_file_size  n_mega_pixels  \n",
       "367             1.99 GB           1528  \n",
       "42              2.59 GB           2479  \n",
       "250             0.51 GB           1424  \n",
       "405             0.68 GB            803  \n",
       "193             2.51 GB           3391  "
      ]
     },
     "execution_count": 13,
     "metadata": {},
     "output_type": "execute_result"
    }
   ],
   "source": [
    "test_meta"
   ]
  },
  {
   "cell_type": "code",
   "execution_count": 14,
   "id": "62b92953",
   "metadata": {
    "execution": {
     "iopub.execute_input": "2024-03-01T22:43:34.628927Z",
     "iopub.status.busy": "2024-03-01T22:43:34.628672Z",
     "iopub.status.idle": "2024-03-01T22:43:34.806639Z",
     "shell.execute_reply": "2024-03-01T22:43:34.805862Z"
    },
    "papermill": {
     "duration": 0.191934,
     "end_time": "2024-03-01T22:43:34.808873",
     "exception": false,
     "start_time": "2024-03-01T22:43:34.616939",
     "status": "completed"
    },
    "tags": []
   },
   "outputs": [],
   "source": [
    "bag_weight = 0.7\n",
    "\n",
    "default_prediction = 'HGSC'\n",
    "predictions = {}\n",
    "\n",
    "not_found_count = 0\n",
    "for i, row in test_meta.iterrows():\n",
    "    image_id = row['image_id']\n",
    "    is_tma = (row['n_mega_pixels'] <= 50)\n",
    "    feature_path = project_root/'features'/f'{image_id}.pt'\n",
    "    try:\n",
    "        features = torch.load(feature_path, map_location='cuda')\n",
    "    except FileNotFoundError:\n",
    "        not_found_count += 1\n",
    "        continue\n",
    "\n",
    "    probs = []\n",
    "    for model in models:\n",
    "        model.eval()\n",
    "        with torch.no_grad():\n",
    "            result = model(features, bag_weight, is_tma)[0]\n",
    "        probs.append(F.softmax(result, dim=1).cpu().numpy())\n",
    "    model_avg = np.array(probs).mean(axis=0)\n",
    "\n",
    "    predictions[image_id] = labels['label'].iloc[model_avg.argmax()]"
   ]
  },
  {
   "cell_type": "code",
   "execution_count": 15,
   "id": "a186f3f3",
   "metadata": {
    "execution": {
     "iopub.execute_input": "2024-03-01T22:43:34.832588Z",
     "iopub.status.busy": "2024-03-01T22:43:34.831885Z",
     "iopub.status.idle": "2024-03-01T22:43:34.901597Z",
     "shell.execute_reply": "2024-03-01T22:43:34.900913Z"
    },
    "papermill": {
     "duration": 0.083363,
     "end_time": "2024-03-01T22:43:34.903447",
     "exception": false,
     "start_time": "2024-03-01T22:43:34.820084",
     "status": "completed"
    },
    "tags": []
   },
   "outputs": [],
   "source": [
    "predictions = pd.DataFrame(predictions.items(), columns=['image_id', 'label'])\n",
    "if not_found_count > 0:\n",
    "    print(f'Could not find {not_found_count} feature files.')"
   ]
  },
  {
   "cell_type": "code",
   "execution_count": 16,
   "id": "2d9fc60a",
   "metadata": {
    "execution": {
     "iopub.execute_input": "2024-03-01T22:43:34.926054Z",
     "iopub.status.busy": "2024-03-01T22:43:34.925807Z",
     "iopub.status.idle": "2024-03-01T22:43:35.012439Z",
     "shell.execute_reply": "2024-03-01T22:43:35.011467Z"
    },
    "papermill": {
     "duration": 0.100606,
     "end_time": "2024-03-01T22:43:35.014777",
     "exception": false,
     "start_time": "2024-03-01T22:43:34.914171",
     "status": "completed"
    },
    "tags": []
   },
   "outputs": [
    {
     "name": "stdout",
     "output_type": "stream",
     "text": [
      "Replacing 0 null labels\n",
      "Replacing 0 invalid labels\n",
      "Fill default prediction for 0 misisng image_ids.\n"
     ]
    },
    {
     "name": "stderr",
     "output_type": "stream",
     "text": [
      "/tmp/ipykernel_27/2216778787.py:2: FutureWarning: A value is trying to be set on a copy of a DataFrame or Series through chained assignment using an inplace method.\n",
      "The behavior will change in pandas 3.0. This inplace method will never work because the intermediate object on which we are setting values always behaves as a copy.\n",
      "\n",
      "For example, when doing 'df[col].method(value, inplace=True)', try using 'df.method({col: value}, inplace=True)' or df[col] = df[col].method(value) instead, to perform the operation inplace on the original object.\n",
      "\n",
      "\n",
      "  predictions['label'].fillna(default_prediction, inplace=True)\n"
     ]
    }
   ],
   "source": [
    "print(f\"Replacing {predictions['label'].isnull().sum()} null labels\")\n",
    "predictions['label'].fillna(default_prediction, inplace=True)\n",
    "print(f\"Replacing {(~(predictions['label'].isin(labels['label']))).sum()} invalid labels\")\n",
    "predictions[~predictions['label'].isin(labels['label'])] = default_prediction\n",
    "print(f\"Fill default prediction for {(~test_meta['image_id'].isin(predictions['image_id'])).sum()} misisng image_ids.\")\n",
    "missing_ids = test_meta[~test_meta['image_id'].isin(predictions['image_id'])][['image_id']]\n",
    "missing_ids['label'] = default_prediction\n",
    "predictions = pd.concat([predictions, missing_ids])\n",
    "predictions.sort_values('image_id').to_csv('/kaggle/working/submission.csv', index=False)"
   ]
  },
  {
   "cell_type": "code",
   "execution_count": 17,
   "id": "e38d08c7",
   "metadata": {
    "execution": {
     "iopub.execute_input": "2024-03-01T22:43:35.038042Z",
     "iopub.status.busy": "2024-03-01T22:43:35.037802Z",
     "iopub.status.idle": "2024-03-01T22:43:36.103409Z",
     "shell.execute_reply": "2024-03-01T22:43:36.102286Z"
    },
    "papermill": {
     "duration": 1.079563,
     "end_time": "2024-03-01T22:43:36.105493",
     "exception": false,
     "start_time": "2024-03-01T22:43:35.025930",
     "status": "completed"
    },
    "tags": []
   },
   "outputs": [
    {
     "name": "stdout",
     "output_type": "stream",
     "text": [
      "image_id,label\r\n",
      "4877,CC\r\n",
      "23523,MC\r\n",
      "30539,HGSC\r\n",
      "43815,HGSC\r\n",
      "47984,LGSC\r\n"
     ]
    }
   ],
   "source": [
    "!cat submission.csv"
   ]
  },
  {
   "cell_type": "code",
   "execution_count": 18,
   "id": "93f088ce",
   "metadata": {
    "execution": {
     "iopub.execute_input": "2024-03-01T22:43:36.130864Z",
     "iopub.status.busy": "2024-03-01T22:43:36.130561Z",
     "iopub.status.idle": "2024-03-01T22:43:36.209925Z",
     "shell.execute_reply": "2024-03-01T22:43:36.209218Z"
    },
    "papermill": {
     "duration": 0.093892,
     "end_time": "2024-03-01T22:43:36.211777",
     "exception": false,
     "start_time": "2024-03-01T22:43:36.117885",
     "status": "completed"
    },
    "tags": []
   },
   "outputs": [],
   "source": [
    "# while \"submission.csv\" not in os.listdir(\"/kaggle/working\"):\n",
    "#     predictions.to_csv('/kaggle/working/submission.csv', index=False)"
   ]
  },
  {
   "cell_type": "code",
   "execution_count": null,
   "id": "01d68afe",
   "metadata": {
    "papermill": {
     "duration": 0.010803,
     "end_time": "2024-03-01T22:43:36.233775",
     "exception": false,
     "start_time": "2024-03-01T22:43:36.222972",
     "status": "completed"
    },
    "tags": []
   },
   "outputs": [],
   "source": []
  },
  {
   "cell_type": "code",
   "execution_count": null,
   "id": "956c3140",
   "metadata": {
    "papermill": {
     "duration": 0.010788,
     "end_time": "2024-03-01T22:43:36.255613",
     "exception": false,
     "start_time": "2024-03-01T22:43:36.244825",
     "status": "completed"
    },
    "tags": []
   },
   "outputs": [],
   "source": []
  },
  {
   "cell_type": "code",
   "execution_count": null,
   "id": "beeaf9e7",
   "metadata": {
    "papermill": {
     "duration": 0.010965,
     "end_time": "2024-03-01T22:43:36.278328",
     "exception": false,
     "start_time": "2024-03-01T22:43:36.267363",
     "status": "completed"
    },
    "tags": []
   },
   "outputs": [],
   "source": []
  },
  {
   "cell_type": "code",
   "execution_count": null,
   "id": "d7e3ff2a",
   "metadata": {
    "papermill": {
     "duration": 0.010887,
     "end_time": "2024-03-01T22:43:36.300132",
     "exception": false,
     "start_time": "2024-03-01T22:43:36.289245",
     "status": "completed"
    },
    "tags": []
   },
   "outputs": [],
   "source": []
  },
  {
   "cell_type": "code",
   "execution_count": null,
   "id": "3af3f6b5",
   "metadata": {
    "papermill": {
     "duration": 0.011002,
     "end_time": "2024-03-01T22:43:36.322251",
     "exception": false,
     "start_time": "2024-03-01T22:43:36.311249",
     "status": "completed"
    },
    "tags": []
   },
   "outputs": [],
   "source": []
  }
 ],
 "metadata": {
  "kaggle": {
   "accelerator": "nvidiaTeslaT4",
   "dataSources": [
    {
     "databundleVersionId": 6924515,
     "sourceId": 45867,
     "sourceType": "competition"
    },
    {
     "datasetId": 3934666,
     "sourceId": 6844262,
     "sourceType": "datasetVersion"
    },
    {
     "datasetId": 4009169,
     "sourceId": 6979608,
     "sourceType": "datasetVersion"
    },
    {
     "datasetId": 4087402,
     "sourceId": 7092658,
     "sourceType": "datasetVersion"
    },
    {
     "datasetId": 4521196,
     "sourceId": 7736460,
     "sourceType": "datasetVersion"
    },
    {
     "datasetId": 4107067,
     "sourceId": 7120688,
     "sourceType": "datasetVersion"
    },
    {
     "datasetId": 4521217,
     "isSourceIdPinned": true,
     "sourceId": 7738559,
     "sourceType": "datasetVersion"
    }
   ],
   "isGpuEnabled": true,
   "isInternetEnabled": false,
   "language": "python",
   "sourceType": "notebook"
  },
  "kernelspec": {
   "display_name": "Python 3",
   "language": "python",
   "name": "python3"
  },
  "language_info": {
   "codemirror_mode": {
    "name": "ipython",
    "version": 3
   },
   "file_extension": ".py",
   "mimetype": "text/x-python",
   "name": "python",
   "nbconvert_exporter": "python",
   "pygments_lexer": "ipython3",
   "version": "3.10.13"
  },
  "papermill": {
   "default_parameters": {},
   "duration": 440.402704,
   "end_time": "2024-03-01T22:43:39.053562",
   "environment_variables": {},
   "exception": null,
   "input_path": "__notebook__.ipynb",
   "output_path": "__notebook__.ipynb",
   "parameters": {},
   "start_time": "2024-03-01T22:36:18.650858",
   "version": "2.5.0"
  }
 },
 "nbformat": 4,
 "nbformat_minor": 5
}
